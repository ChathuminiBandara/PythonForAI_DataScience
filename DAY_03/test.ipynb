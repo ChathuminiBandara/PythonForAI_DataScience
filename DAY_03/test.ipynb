{
 "cells": [
  {
   "cell_type": "code",
   "execution_count": 4,
   "metadata": {},
   "outputs": [
    {
     "name": "stdout",
     "output_type": "stream",
     "text": [
      "Average: 7.5\n"
     ]
    }
   ],
   "source": [
    "my_list = [4,8,12,5,9,7]\n",
    "total = 0\n",
    "\n",
    "for num in my_list:\n",
    "    total += num\n",
    "\n",
    "average = total / len(my_list)\n",
    "\n",
    "print(\"Average:\", average)\n"
   ]
  },
  {
   "cell_type": "code",
   "execution_count": 8,
   "metadata": {},
   "outputs": [
    {
     "name": "stdout",
     "output_type": "stream",
     "text": [
      "[8, 5]\n"
     ]
    }
   ],
   "source": [
    "my_list = [4,8,12,5,9,7]\n",
    "print(my_list[1:5:2])"
   ]
  },
  {
   "cell_type": "code",
   "execution_count": null,
   "metadata": {},
   "outputs": [],
   "source": [
    "def add_calculator (a, b, c=5):\n",
    "    return a+b+c"
   ]
  },
  {
   "cell_type": "code",
   "execution_count": 13,
   "metadata": {},
   "outputs": [
    {
     "name": "stdout",
     "output_type": "stream",
     "text": [
      "9995.12\n"
     ]
    }
   ],
   "source": [
    "def caluculate_total_cost(item_price, quantity, tax ,discout = 0 ):\n",
    "    total_tax_for_the_discount_price = 1\n",
    "    # print(item_price, quantity, tax ,discout)\n",
    "\n",
    "    sub_without_discount = (item_price*quantity)\n",
    "    sub_w_discount = sub_without_discount - discout\n",
    "    total_sub = sub_w_discount + tax\n",
    "    return print(total_sub)\n",
    "\n",
    "\n",
    "\n",
    "caluculate_total_cost(item_price=1000, quantity=10, tax = 12/100, discout=5)\n",
    "\n",
    "\n",
    "\n",
    "\n",
    "\n"
   ]
  }
 ],
 "metadata": {
  "kernelspec": {
   "display_name": "Python 3",
   "language": "python",
   "name": "python3"
  },
  "language_info": {
   "codemirror_mode": {
    "name": "ipython",
    "version": 3
   },
   "file_extension": ".py",
   "mimetype": "text/x-python",
   "name": "python",
   "nbconvert_exporter": "python",
   "pygments_lexer": "ipython3",
   "version": "3.13.0"
  }
 },
 "nbformat": 4,
 "nbformat_minor": 2
}
