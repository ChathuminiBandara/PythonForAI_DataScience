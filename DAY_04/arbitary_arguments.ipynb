{
 "cells": [
  {
   "cell_type": "code",
   "execution_count": 1,
   "metadata": {},
   "outputs": [
    {
     "name": "stdout",
     "output_type": "stream",
     "text": [
      "(1, 'Ian') <class 'tuple'>\n",
      "None\n"
     ]
    }
   ],
   "source": [
    "def arbitary_Arguments_ard(*args):\n",
    "    print(args, type(args))\n",
    "\n",
    "print(arbitary_Arguments_ard(1,\"Ian\"))"
   ]
  },
  {
   "cell_type": "code",
   "execution_count": 12,
   "metadata": {},
   "outputs": [
    {
     "name": "stdout",
     "output_type": "stream",
     "text": [
      "15\n"
     ]
    }
   ],
   "source": [
    "\n",
    "def find_sum(*a):\n",
    "    sum = 0\n",
    "    for num in a:\n",
    "        sum += num\n",
    "    return sum\n",
    "\n",
    "\n",
    "print(find_sum(1,2,3,4,5))\n",
    "\n",
    "\n"
   ]
  },
  {
   "cell_type": "code",
   "execution_count": 22,
   "metadata": {},
   "outputs": [
    {
     "name": "stdout",
     "output_type": "stream",
     "text": [
      "Average is:  35.42857142857143\n",
      "Maximum Grade is:  75\n",
      "Minimum Grade is:  10\n",
      "None\n"
     ]
    }
   ],
   "source": [
    "def calculate_Grades(*args):\n",
    "    if len(args) ==0:\n",
    "        return \"No Grades Available\"\n",
    "    sumGrade = 0\n",
    "    for grade in args:\n",
    "        sumGrade += grade\n",
    "    average = sumGrade / len(args)\n",
    "    print(\"Average is: \", average)\n",
    "    maxGrade = max(args)\n",
    "    print(\"Maximum Grade is: \", maxGrade)\n",
    "    minGrade = min(args)\n",
    "    print(\"Minimum Grade is: \", minGrade)\n",
    "    \n",
    "# print(calculate_Grades())   \n",
    "print(calculate_Grades(10,32,11,23,65,75,32))\n"
   ]
  }
 ],
 "metadata": {
  "kernelspec": {
   "display_name": "Python 3",
   "language": "python",
   "name": "python3"
  },
  "language_info": {
   "codemirror_mode": {
    "name": "ipython",
    "version": 3
   },
   "file_extension": ".py",
   "mimetype": "text/x-python",
   "name": "python",
   "nbconvert_exporter": "python",
   "pygments_lexer": "ipython3",
   "version": "3.13.0"
  }
 },
 "nbformat": 4,
 "nbformat_minor": 2
}
