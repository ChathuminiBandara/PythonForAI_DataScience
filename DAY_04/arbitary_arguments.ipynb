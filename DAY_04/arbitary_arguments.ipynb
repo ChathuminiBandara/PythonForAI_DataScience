{
 "cells": [
  {
   "cell_type": "code",
   "execution_count": 1,
   "metadata": {},
   "outputs": [
    {
     "name": "stdout",
     "output_type": "stream",
     "text": [
      "(1, 'Ian') <class 'tuple'>\n",
      "None\n"
     ]
    }
   ],
   "source": [
    "def arbitary_Arguments_ard(*args):\n",
    "    print(args, type(args))\n",
    "\n",
    "print(arbitary_Arguments_ard(1,\"Ian\"))"
   ]
  },
  {
   "cell_type": "code",
   "execution_count": 12,
   "metadata": {},
   "outputs": [
    {
     "name": "stdout",
     "output_type": "stream",
     "text": [
      "15\n"
     ]
    }
   ],
   "source": [
    "\n",
    "def find_sum(*a):\n",
    "    sum = 0\n",
    "    for num in a:\n",
    "        sum += num\n",
    "    return sum\n",
    "\n",
    "\n",
    "print(find_sum(1,2,3,4,5))\n",
    "\n",
    "\n"
   ]
  },
  {
   "cell_type": "code",
   "execution_count": 23,
   "metadata": {},
   "outputs": [
    {
     "name": "stdout",
     "output_type": "stream",
     "text": [
      "Hello  ian\n",
      "Average is:  35.42857142857143\n",
      "Maximum Grade is:  75\n",
      "Minimum Grade is:  10\n",
      "None\n"
     ]
    }
   ],
   "source": [
    "def calculate_Grades(*args):\n",
    "    if len(args) ==0:\n",
    "        return \"No Grades Available\"\n",
    "    sumGrade = 0\n",
    "    for grade in args:\n",
    "        sumGrade += grade\n",
    "    average = sumGrade / len(args)\n",
    "    print(\"Average is: \", average)\n",
    "    maxGrade = max(args)\n",
    "    print(\"Maximum Grade is: \", maxGrade)\n",
    "    minGrade = min(args)\n",
    "    print(\"Minimum Grade is: \", minGrade)\n",
    "    \n",
    "# print(calculate_Grades())\n",
    "name = input(\"Enter your name: \")\n",
    "print(\"Hello \", name)   \n",
    "print(calculate_Grades(10,32,11,23,65,75,32))\n"
   ]
  },
  {
   "cell_type": "code",
   "execution_count": 25,
   "metadata": {},
   "outputs": [
    {
     "name": "stdout",
     "output_type": "stream",
     "text": [
      "Hello  Ian\n",
      "Average is:  35.42857142857143\n",
      "Maximum Grade is:  75\n",
      "Minimum Grade is:  10\n",
      "None\n"
     ]
    }
   ],
   "source": [
    "def calculate_Grades(name ,*args):\n",
    "    print(\"Hello \", name)\n",
    "    if not args:\n",
    "        return \"No Grades Available\"\n",
    "    sumGrade = 0\n",
    "    for grade in args:\n",
    "        sumGrade += grade\n",
    "    average = sumGrade / len(args)\n",
    "    print(\"Average is: \", average)\n",
    "    maxGrade = max(args)\n",
    "    print(\"Maximum Grade is: \", maxGrade)\n",
    "    minGrade = min(args)\n",
    "    print(\"Minimum Grade is: \", minGrade)\n",
    "    \n",
    "# print(calculate_Grades())\n",
    "# name = input(\"Enter your name: \")\n",
    "# print(\"Hello \", name)   \n",
    "print(calculate_Grades(\"Ian\",10,32,11,23,65,75,32))\n"
   ]
  },
  {
   "cell_type": "code",
   "execution_count": 29,
   "metadata": {},
   "outputs": [
    {
     "name": "stdout",
     "output_type": "stream",
     "text": [
      "name : Ian\n",
      "age : 23\n",
      "course : Python\n",
      "{'name': 'Ian', 'age': 23, 'course': 'Python'} <class 'dict'>\n",
      "None\n"
     ]
    }
   ],
   "source": [
    "def arbitary_Arguments_ard(**kwargs):\n",
    "    for key,value in kwargs.items():\n",
    "        print(f\"{key} : {value}\")\n",
    "    \n",
    "    print(kwargs, type(kwargs))\n",
    "\n",
    "print(arbitary_Arguments_ard(name = \"Ian\", age = 23, course = \"Python\"))"
   ]
  },
  {
   "cell_type": "code",
   "execution_count": 43,
   "metadata": {},
   "outputs": [
    {
     "name": "stdout",
     "output_type": "stream",
     "text": [
      "Employee Name:  Employee1\n",
      "age : 23\n",
      "section : Academic\n",
      "{'age': 23, 'section': 'Academic'}\n",
      "None\n"
     ]
    }
   ],
   "source": [
    "def employee_info(name,**kwargs):\n",
    "    print(\"Employee Name: \", name)\n",
    "    for key,value in kwargs.items():\n",
    "        print(f\"{key} : {value}\")\n",
    "    \n",
    "    print(kwargs)\n",
    "\n",
    "print(employee_info(name = \"Employee1\", age = 23, section = \"Academic\"))"
   ]
  },
  {
   "cell_type": "code",
   "execution_count": 49,
   "metadata": {},
   "outputs": [
    {
     "name": "stdout",
     "output_type": "stream",
     "text": [
      "<map object at 0x0000021E30B676A0> <class 'map'>\n",
      "[1, 4, 1, 4] <class 'list'>\n"
     ]
    }
   ],
   "source": [
    "my_list = [1, 2, 1, 2]\n",
    "\n",
    "def find_square(x):\n",
    "    return x ** 2\n",
    "\n",
    "result = map(find_square, my_list)\n",
    "print(result, type(result))\n",
    "result = list(result)\n",
    "print(result, type(result))\n"
   ]
  },
  {
   "cell_type": "code",
   "execution_count": 58,
   "metadata": {},
   "outputs": [
    {
     "name": "stdout",
     "output_type": "stream",
     "text": [
      "[2, 4, 6, 8, 10, 12, 14]\n"
     ]
    }
   ],
   "source": [
    "my_list1 = [1,2,3,4,5,6,7]\n",
    "my_list2 = [1,2,3,4,5,6,7]\n",
    "\n",
    "def find_sum(a,b):\n",
    "    return a + b\n",
    "\n",
    "sumOfNumbrs = map(find_sum, my_list1, my_list2)\n",
    "sumOfNumbrs = list(sumOfNumbrs)\n",
    "print(sumOfNumbrs)\n",
    "\n"
   ]
  },
  {
   "cell_type": "code",
   "execution_count": 61,
   "metadata": {},
   "outputs": [
    {
     "name": "stdout",
     "output_type": "stream",
     "text": [
      "[68.0, 86.0, 77.0, 104.0, 122.0]\n"
     ]
    }
   ],
   "source": [
    "temperatures = [20,30,25,40,50]\n",
    "\n",
    "def toFeranheit(f):\n",
    "    return (f* 9/5) + 32\n",
    "\n",
    "result = map(toFeranheit, temperatures)\n",
    "result = list(result)\n",
    "print(result)\n"
   ]
  },
  {
   "cell_type": "code",
   "execution_count": 65,
   "metadata": {},
   "outputs": [
    {
     "name": "stdout",
     "output_type": "stream",
     "text": [
      "<class 'filter'>\n",
      "[5, 7, 3]\n"
     ]
    }
   ],
   "source": [
    "my_list = [5,7,8,3,12,14]\n",
    "\n",
    "def filterEvenNumbrs(num):\n",
    "    return num % 2 != 0\n",
    "\n",
    "result = filter(filterEvenNumbrs ,my_list)\n",
    "print(type(result))\n",
    "\n",
    "result = list(result)\n",
    "print(result)"
   ]
  },
  {
   "cell_type": "code",
   "execution_count": 66,
   "metadata": {},
   "outputs": [
    {
     "name": "stdout",
     "output_type": "stream",
     "text": [
      "5\n"
     ]
    }
   ],
   "source": [
    "add = lambda x,y : x + y\n",
    "print(add(2,3))"
   ]
  },
  {
   "cell_type": "code",
   "execution_count": 69,
   "metadata": {},
   "outputs": [
    {
     "name": "stdout",
     "output_type": "stream",
     "text": [
      "5\n"
     ]
    }
   ],
   "source": [
    "add = (lambda x,y : x+y)(3,2)\n",
    "print(add)"
   ]
  },
  {
   "cell_type": "code",
   "execution_count": 74,
   "metadata": {},
   "outputs": [
    {
     "name": "stdout",
     "output_type": "stream",
     "text": [
      "[('Ian', 18), ('Jane', 2)]\n"
     ]
    }
   ],
   "source": [
    "people = [(\"Ian\", 18), (\"John\", 30), (\"Jane\", 2), (\"Doe\", 40)]\n",
    "\n",
    "filter(lambda x: x[1] > 18, people)\n",
    "result = list(filter(lambda x: x[1] <= 18, people))\n",
    "\n",
    "print(result)"
   ]
  }
 ],
 "metadata": {
  "kernelspec": {
   "display_name": "Python 3",
   "language": "python",
   "name": "python3"
  },
  "language_info": {
   "codemirror_mode": {
    "name": "ipython",
    "version": 3
   },
   "file_extension": ".py",
   "mimetype": "text/x-python",
   "name": "python",
   "nbconvert_exporter": "python",
   "pygments_lexer": "ipython3",
   "version": "3.13.0"
  }
 },
 "nbformat": 4,
 "nbformat_minor": 2
}
