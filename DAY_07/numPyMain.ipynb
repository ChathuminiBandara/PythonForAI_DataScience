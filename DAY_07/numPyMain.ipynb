{
 "cells": [
  {
   "cell_type": "code",
   "execution_count": 1,
   "metadata": {},
   "outputs": [
    {
     "name": "stdout",
     "output_type": "stream",
     "text": [
      "[1 2 3 4 5]\n",
      "<class 'numpy.ndarray'>\n"
     ]
    }
   ],
   "source": [
    "import numpy as np\n",
    "\n",
    "a = np.array([1, 2, 3, 4, 5])\n",
    "print(a)\n",
    "print(type(a))"
   ]
  },
  {
   "cell_type": "code",
   "execution_count": 4,
   "metadata": {},
   "outputs": [
    {
     "name": "stdout",
     "output_type": "stream",
     "text": [
      "Addition [ 7  9 11 13 15]\n",
      "Subtraction [-5 -5 -5 -5 -5]\n",
      "Multiplication [ 6 14 24 36 50]\n",
      "Division [0.16666667 0.28571429 0.375      0.44444444 0.5       ]\n",
      "Square root [1.         1.41421356 1.73205081 2.         2.23606798]\n",
      "Summation 15\n",
      "Mean 3.0\n",
      "Max 5\n",
      "Min 1\n"
     ]
    }
   ],
   "source": [
    "import numpy as np\n",
    "\n",
    "array1 = np.array([1, 2, 3, 4, 5])\n",
    "array2 = np.array([6, 7, 8, 9, 10])\n",
    "\n",
    "\n",
    "result_addition  = array1 + array2\n",
    "# print(type(array1 + array2))\n",
    "\n",
    "result_subtraction = array1 - array2\n",
    "result_multiplication = array1 * array2\n",
    "result_division = array1 / array2\n",
    "\n",
    "print(\"Addition\", result_addition)\n",
    "print(\"Subtraction\", result_subtraction)\n",
    "print(\"Multiplication\", result_multiplication)\n",
    "print(\"Division\", result_division)\n",
    "\n",
    "\n",
    "# square root\n",
    "result_sqrt = np.sqrt(array1)\n",
    "print(\"Square root\", result_sqrt)\n",
    "\n",
    "# Summation\n",
    "result_summation = np.sum(array1)\n",
    "print(\"Summation\", result_summation)\n",
    "\n",
    "# Mean (Average)\n",
    "result_mean = np.mean(array1)\n",
    "print(\"Mean\", result_mean)\n",
    "\n",
    "# max\n",
    "result_max = np.max(array1)\n",
    "print(\"Max\", result_max)\n",
    "\n",
    "#min   \n",
    "result_min = np.min(array1)\n",
    "print(\"Min\", result_min)\n"
   ]
  },
  {
   "cell_type": "code",
   "execution_count": 9,
   "metadata": {},
   "outputs": [
    {
     "name": "stdout",
     "output_type": "stream",
     "text": [
      "[[1 3 2]\n",
      " [4 5 6]\n",
      " [7 8 9]]\n",
      "<class 'numpy.ndarray'>\n",
      "3\n",
      "Size 9\n",
      "Shape (3, 3)\n"
     ]
    }
   ],
   "source": [
    "import numpy as np\n",
    "array_2d = np.array([[1,3,2], [4,5,6], [7,8,9]])\n",
    "print(array_2d)\n",
    "print(type(array_2d))\n",
    "print(len(array_2d))\n",
    "result_size = np.size(array_2d)\n",
    "print(\"Size\", result_size)\n",
    "result_shape = np.shape(array_2d)\n",
    "print(\"Shape\", result_shape)"
   ]
  },
  {
   "cell_type": "code",
   "execution_count": 16,
   "metadata": {},
   "outputs": [
    {
     "name": "stdout",
     "output_type": "stream",
     "text": [
      "[[[ 1  2  3]\n",
      "  [ 4  5  6]]\n",
      "\n",
      " [[ 7  8  9]\n",
      "  [10 11 12]]]\n",
      "Shape (2, 2, 3)\n",
      "int64\n",
      "ndim (Number of dimensions) 3\n",
      "2\n",
      "[1 2 3]\n"
     ]
    }
   ],
   "source": [
    "import numpy as np\n",
    "\n",
    "array_3D = np.array([[[1,2,3], [4,5,6]], [[7,8,9], [10,11,12]] ])\n",
    "print(array_3D)\n",
    "array3D_shape = np.shape(array_3D)\n",
    "print(\"Shape\", array3D_shape)\n",
    "\n",
    "print(array_3D.dtype)\n",
    "print(\"ndim (Number of dimensions)\", array_3D.ndim)\n",
    "\n",
    "# Numpy Array Indexing\n",
    "print(array_3D[0,0,1])\n",
    "print(array_3D[0,0])\n"
   ]
  },
  {
   "cell_type": "code",
   "execution_count": 27,
   "metadata": {},
   "outputs": [
    {
     "name": "stdout",
     "output_type": "stream",
     "text": [
      "2D Array [[ 1  2  3  4  5]\n",
      " [ 6  7  8  9 10]\n",
      " [11 12 13 14 15]\n",
      " [16 17 18 19 20]]\n",
      "Elements added 10 [[11 12 13 14 15]\n",
      " [16 17 18 19 20]\n",
      " [21 22 23 24 25]\n",
      " [26 27 28 29 30]]\n",
      "Elements multiplied by 2 [[22 24 26 28 30]\n",
      " [32 34 36 38 40]\n",
      " [42 44 46 48 50]\n",
      " [52 54 56 58 60]]\n",
      "Square root of every element [[3.31662479 3.46410162 3.60555128 3.74165739 3.87298335]\n",
      " [4.         4.12310563 4.24264069 4.35889894 4.47213595]\n",
      " [4.58257569 4.69041576 4.79583152 4.89897949 5.        ]\n",
      " [5.09901951 5.19615242 5.29150262 5.38516481 5.47722558]]\n",
      "Square of every element [[121 144 169 196 225]\n",
      " [256 289 324 361 400]\n",
      " [441 484 529 576 625]\n",
      " [676 729 784 841 900]]\n"
     ]
    }
   ],
   "source": [
    "import numpy as np \n",
    "\n",
    "# add every element a 10\n",
    "array_2D = np.array([[1,2,3,4,5], [6,7,8,9,10], [11,12,13,14,15], [16,17,18,19,20]])\n",
    "print(\"2D Array\",array_2D)\n",
    "array_2D = array_2D + 10\n",
    "print(\"Elements added 10\", array_2D)\n",
    "\n",
    "array_2D_2 = array_2D * 2\n",
    "print(\"Elements multiplied by 2\", array_2D_2)\n",
    "\n",
    "array_2D_3 = np.sqrt(array_2D)\n",
    "print(\"Square root of every element\", array_2D_3)\n",
    "\n",
    "array_2D_4 = array_2D**2\n",
    "print(\"Square of every element\", array_2D_4)"
   ]
  },
  {
   "cell_type": "code",
   "execution_count": 32,
   "metadata": {},
   "outputs": [
    {
     "name": "stdout",
     "output_type": "stream",
     "text": [
      "[False False  True  True  True]\n",
      "[30 40 50]\n"
     ]
    }
   ],
   "source": [
    "import numpy as np\n",
    "\n",
    "arr = np.array([10,20,30,40,50])\n",
    "condititon = arr > 25\n",
    "print(condititon)\n",
    "\n",
    "filtered = arr[condititon]\n",
    "print(filtered)\n"
   ]
  },
  {
   "cell_type": "code",
   "execution_count": 35,
   "metadata": {},
   "outputs": [
    {
     "name": "stdout",
     "output_type": "stream",
     "text": [
      "Filtered Array :  [30 40 50]\n"
     ]
    }
   ],
   "source": [
    "import numpy as np\n",
    "\n",
    "arr2 = np.array([10,20,30,40,50])\n",
    "filtered_array = arr2[arr2 > 25]\n",
    "print(\"Filtered Array : \",filtered_array)"
   ]
  },
  {
   "cell_type": "code",
   "execution_count": 37,
   "metadata": {},
   "outputs": [
    {
     "name": "stdout",
     "output_type": "stream",
     "text": [
      "Filtered Combined :  [30 40]\n"
     ]
    }
   ],
   "source": [
    "import numpy as np\n",
    "\n",
    "arr = np.array([10,20,30,40,50])\n",
    "filtered_combined = arr[(arr > 20) & (arr < 50)]\n",
    "print(\"Filtered Combined : \",filtered_combined)"
   ]
  },
  {
   "cell_type": "code",
   "execution_count": 48,
   "metadata": {},
   "outputs": [
    {
     "name": "stdout",
     "output_type": "stream",
     "text": [
      "Zeros [0. 0. 0. 0. 0.]\n",
      "Ones [1. 1. 1. 1. 1.]\n",
      "Full [5 5 5 5 5]\n",
      "Identity [[1. 0. 0. 0. 0.]\n",
      " [0. 1. 0. 0. 0.]\n",
      " [0. 0. 1. 0. 0.]\n",
      " [0. 0. 0. 1. 0.]\n",
      " [0. 0. 0. 0. 1.]]\n",
      "Random [0.21334055 0.91537068 0.3936642  0.92069788 0.49252533]\n",
      "Zeros 2D [[0. 0. 0.]\n",
      " [0. 0. 0.]\n",
      " [0. 0. 0.]]\n",
      "Full 2D [[5 5 5]\n",
      " [5 5 5]\n",
      " [5 5 5]\n",
      " [5 5 5]]\n",
      "Empty 2D : Garbage Values :  [[2.5e-323 2.5e-323 2.5e-323]\n",
      " [2.5e-323 2.5e-323 2.5e-323]]\n"
     ]
    }
   ],
   "source": [
    "import numpy as np\n",
    "\n",
    "array_1 = np.zeros(5)\n",
    "print(\"Zeros\", array_1)\n",
    "\n",
    "array_2 = np.ones(5)\n",
    "print(\"Ones\", array_2)\n",
    "\n",
    "array_3 = np.full(5, 5)\n",
    "print(\"Full\", array_3)\n",
    "\n",
    "array_4 = np.eye(5)\n",
    "print(\"Identity\", array_4)\n",
    "\n",
    "\n",
    "array_5 = np.random.random(5)\n",
    "print(\"Random\", array_5)\n",
    "\n",
    "\n",
    "array_6 = np.zeros((3,3))\n",
    "print(\"Zeros 2D\", array_6)\n",
    "\n",
    "array_7 = np.full((4,3), 5)\n",
    "print(\"Full 2D\", array_7)\n",
    "\n",
    "array_8 = np.empty((2,3))\n",
    "print(\"Empty 2D : Garbage Values : \", array_8)"
   ]
  },
  {
   "cell_type": "code",
   "execution_count": 51,
   "metadata": {},
   "outputs": [
    {
     "name": "stdout",
     "output_type": "stream",
     "text": [
      "Even Numbers :  [ 2  4  6  8 10 12 14 16 18 20]\n",
      "Mean :  [40 50]\n"
     ]
    }
   ],
   "source": [
    "import numpy as np\n",
    "\n",
    "array = np.array([1,2,3,4,5,6,7,8,9,10,11,12,13,14,15,16,17,18,19,20])\n",
    "even_numbers = array[array % 2 == 0]\n",
    "print(\"Even Numbers : \", even_numbers)\n",
    "\n",
    "\n",
    "array_1 = np.array([10,20,30,40,50])\n",
    "# extract all elements greater than the mean\n",
    "mean_result = np.mean(array_1)\n",
    "greater_than_mean = array_1[array_1 > mean_result]\n",
    "print(\"Mean : \", greater_than_mean)"
   ]
  }
 ],
 "metadata": {
  "kernelspec": {
   "display_name": "Python 3",
   "language": "python",
   "name": "python3"
  },
  "language_info": {
   "codemirror_mode": {
    "name": "ipython",
    "version": 3
   },
   "file_extension": ".py",
   "mimetype": "text/x-python",
   "name": "python",
   "nbconvert_exporter": "python",
   "pygments_lexer": "ipython3",
   "version": "3.13.0"
  }
 },
 "nbformat": 4,
 "nbformat_minor": 2
}
