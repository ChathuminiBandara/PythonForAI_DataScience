{
 "cells": [
  {
   "cell_type": "code",
   "execution_count": 1,
   "metadata": {},
   "outputs": [
    {
     "name": "stdout",
     "output_type": "stream",
     "text": [
      "[1 2 3 4 5]\n",
      "<class 'numpy.ndarray'>\n"
     ]
    }
   ],
   "source": [
    "import numpy as np\n",
    "\n",
    "a = np.array([1, 2, 3, 4, 5])\n",
    "print(a)\n",
    "print(type(a))"
   ]
  },
  {
   "cell_type": "code",
   "execution_count": 3,
   "metadata": {},
   "outputs": [
    {
     "name": "stdout",
     "output_type": "stream",
     "text": [
      "Addition [ 7  9 11 13 15]\n",
      "Subtraction [-5 -5 -5 -5 -5]\n",
      "Multiplication [ 6 14 24 36 50]\n",
      "Division [0.16666667 0.28571429 0.375      0.44444444 0.5       ]\n",
      "Square root [1.         1.41421356 1.73205081 2.         2.23606798]\n",
      "Summation 15\n",
      "Mean 3.0\n"
     ]
    }
   ],
   "source": [
    "import numpy as np\n",
    "\n",
    "array1 = np.array([1, 2, 3, 4, 5])\n",
    "array2 = np.array([6, 7, 8, 9, 10])\n",
    "\n",
    "\n",
    "result_addition  = array1 + array2\n",
    "# print(type(array1 + array2))\n",
    "\n",
    "result_subtraction = array1 - array2\n",
    "result_multiplication = array1 * array2\n",
    "result_division = array1 / array2\n",
    "\n",
    "print(\"Addition\", result_addition)\n",
    "print(\"Subtraction\", result_subtraction)\n",
    "print(\"Multiplication\", result_multiplication)\n",
    "print(\"Division\", result_division)\n",
    "\n",
    "\n",
    "# square root\n",
    "result_sqrt = np.sqrt(array1)\n",
    "print(\"Square root\", result_sqrt)\n",
    "\n",
    "# Summation\n",
    "result_summation = np.sum(array1)\n",
    "print(\"Summation\", result_summation)\n",
    "\n",
    "# Mean (Average)\n",
    "result_mean = np.mean(array1)\n",
    "print(\"Mean\", result_mean)\n"
   ]
  }
 ],
 "metadata": {
  "kernelspec": {
   "display_name": "Python 3",
   "language": "python",
   "name": "python3"
  },
  "language_info": {
   "codemirror_mode": {
    "name": "ipython",
    "version": 3
   },
   "file_extension": ".py",
   "mimetype": "text/x-python",
   "name": "python",
   "nbconvert_exporter": "python",
   "pygments_lexer": "ipython3",
   "version": "3.13.0"
  }
 },
 "nbformat": 4,
 "nbformat_minor": 2
}
