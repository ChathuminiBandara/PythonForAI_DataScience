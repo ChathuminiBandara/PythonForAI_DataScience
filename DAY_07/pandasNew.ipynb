{
 "cells": [
  {
   "cell_type": "code",
   "execution_count": 6,
   "metadata": {},
   "outputs": [
    {
     "name": "stdout",
     "output_type": "stream",
     "text": [
      "     Name  Age\n",
      "0     Tom   20\n",
      "1   Jerry   21\n",
      "2  Mickey   22\n",
      "3  Donald   23\n",
      "Jerry\n",
      "21\n",
      "-----------------\n",
      "Name    Tom\n",
      "Age      20\n",
      "Name: 0, dtype: object\n",
      "-----------------\n",
      "    Name  Age\n",
      "0    Tom   20\n",
      "1  Jerry   21\n"
     ]
    }
   ],
   "source": [
    "import pandas as pd\n",
    "\n",
    "data = {'Name': ['Tom', 'Jerry', 'Mickey', 'Donald'],\n",
    "        'Age': [20, 21, 22, 23]}\n",
    "\n",
    "df = pd.DataFrame(data)\n",
    "print(df)\n",
    "\n",
    "print(df.loc[1, \"Name\"])\n",
    "\n",
    "# Index method\n",
    "print(df.iloc[1,1])\n",
    "print(\"-----------------\")\n",
    "# \n",
    "print(df.loc[0])\n",
    "\n",
    "print(\"-----------------\")\n",
    "# returning multiple rows\n",
    "print(df.loc[[0,1]])\n",
    "\n"
   ]
  },
  {
   "cell_type": "code",
   "execution_count": 15,
   "metadata": {},
   "outputs": [
    {
     "name": "stdout",
     "output_type": "stream",
     "text": [
      "      calories  duration\n",
      "day1       420        50\n",
      "day2       380        40\n",
      "day3       390        45\n",
      "-------------------------------------------------\n",
      "calories    380\n",
      "duration     40\n",
      "Name: day2, dtype: int64\n",
      "-------------------------------------------------\n",
      "      calories  duration\n",
      "day1       420        50\n",
      "day2       380        40\n",
      "---------  Accessing column names  --------------\n",
      "day1    420\n",
      "day2    380\n",
      "day3    390\n",
      "Name: calories, dtype: int64\n",
      "----------------  DataFrame.shape  --------------\n",
      "Shape of the DataFrame :  (2, 2)\n",
      "Sixe of the DataFrame : 4\n"
     ]
    }
   ],
   "source": [
    "import pandas as pd\n",
    "\n",
    "data = {\n",
    "    \"calories\" : [420, 380, 390],\n",
    "    \"duration\" : [50, 40, 45]\n",
    "}\n",
    "\n",
    "\n",
    "df = pd.DataFrame(data, index=[\"day1\", \"day2\", \"day3\"])\n",
    "print(df)\n",
    "print(\"-------------------------------------------------\")\n",
    "print(df.loc[\"day2\"])\n",
    "print(\"-------------------------------------------------\")\n",
    "print(df.loc[[\"day1\", \"day2\"]])\n",
    "\n",
    "print(\"---------  Accessing column names  --------------\")\n",
    "print(df[\"calories\"])\n",
    "\n",
    "\n",
    "print(\"----------------  DataFrame.shape  --------------\")\n",
    "df = pd.DataFrame({\n",
    "    'A' : [1,2],\n",
    "    'B' : [3,4]\n",
    "})\n",
    "print(\"Shape of the DataFrame : \",df.shape)\n",
    "print(\"Sixe of the DataFrame :\",df.size)\n",
    "\n",
    "print(\"-------------------------------------------------\")\n",
    "\n"
   ]
  },
  {
   "cell_type": "code",
   "execution_count": 19,
   "metadata": {},
   "outputs": [
    {
     "name": "stdout",
     "output_type": "stream",
     "text": [
      "converting the DataFrame to the NymPy Array :  [[1 4]\n",
      " [2 5]\n",
      " [3 6]]\n",
      "---------------------------------------------------------\n"
     ]
    }
   ],
   "source": [
    "import pandas as pd\n",
    "\n",
    "df = pd.DataFrame({\n",
    "    'A': [1,2,3],\n",
    "     'B': [4,5,6]\n",
    "})\n",
    "\n",
    "print('converting the DataFrame to the NymPy Array : ',df.values)\n",
    "print('---------------------------------------------------------')\n",
    "\n"
   ]
  },
  {
   "cell_type": "code",
   "execution_count": 28,
   "metadata": {},
   "outputs": [
    {
     "name": "stdout",
     "output_type": "stream",
     "text": [
      "4\n",
      "Rows Count of the DataFrame :  4\n"
     ]
    }
   ],
   "source": [
    "import pandas as pd\n",
    "data = {\n",
    "    'Age': [20, 21, 22, 23],\n",
    "    'Name': ['Tom', 'Jerry', 'Mickey', 'Donald']\n",
    "}\n",
    "df = pd.DataFrame(data)\n",
    "print(len(df))\n",
    "\n",
    "print(\"Rows Count of the DataFrame : \", len(df) )"
   ]
  },
  {
   "cell_type": "code",
   "execution_count": null,
   "metadata": {},
   "outputs": [
    {
     "name": "stdout",
     "output_type": "stream",
     "text": [
      "   order_id    Products     Category  Quantity  Price_Pre_Unit Region  \\\n",
      "0       101      Laptop  Electronics         2            1000  North   \n",
      "1       102  SmartPhone  Electronics         5             800  South   \n",
      "2       103   DeskChair    Furniture        10             150   East   \n",
      "3       104     Monitor  Electronics         4             200   West   \n",
      "4       105   BookShelf    Furniture         2             300  North   \n",
      "\n",
      "   Total_Revenue  \n",
      "0           2000  \n",
      "1           4000  \n",
      "2           1500  \n",
      "3            800  \n",
      "4            600  \n",
      "-------------------------------------------------\n",
      "Products\n",
      "BookShelf      600\n",
      "DeskChair     1500\n",
      "Laptop        2000\n",
      "Monitor        800\n",
      "SmartPhone    4000\n",
      "Name: Total_Revenue, dtype: int64\n",
      "-------------------------------------------------\n",
      "Best Selling Product  :     order_id    Products     Category  Quantity  Price_Pre_Unit Region  \\\n",
      "1       102  SmartPhone  Electronics         5             800  South   \n",
      "\n",
      "   Total_Revenue  \n",
      "1           4000  \n"
     ]
    }
   ],
   "source": [
    "import pandas as pd\n",
    "\n",
    "sales_table = {\n",
    "    'order_id': [101, 102, 103, 104, 105],\n",
    "    'Products' : ['Laptop', 'SmartPhone', 'DeskChair', 'Monitor', 'BookShelf'],\n",
    "    'Category' : ['Electronics', 'Electronics', 'Furniture', 'Electronics', 'Furniture'],\n",
    "    'Quantity' : [2,5,10,4,2],\n",
    "    'Price_Pre_Unit' : [1000, 800, 150, 200, 300],\n",
    "    'Region' : ['No\n",
    "                '/rth', 'South', 'East', 'West', 'North']\n",
    "}\n",
    "\n",
    "# calculate the total revenew for each order\n",
    "df = pd.DataFrame(sales_table)\n",
    "df['Total_Revenue'] = df['Quantity'] * df['Price_Pre_Unit']\n",
    "print(df)\n",
    "\n",
    "print(\"-------------------------------------------------\")\n",
    "\n",
    "\n",
    "# Identify the best selling product by the total revenue\n",
    "print(df.groupby('Products')['Total_Revenue'].sum())\n",
    "print(\"-------------------------------------------------\")\n",
    "filtered_revenew_max = df[df['Total_Revenue'] == df['Total_Revenue'].max()]\n",
    "print(\"Best Selling Product  : \",filtered_revenew_max)\n",
    "\n"
   ]
  },
  {
   "cell_type": "code",
   "execution_count": 53,
   "metadata": {},
   "outputs": [
    {
     "name": "stdout",
     "output_type": "stream",
     "text": [
      "Age          21.5\n",
      "Salary    60500.0\n",
      "dtype: float64\n",
      "---------------------------------------------\n",
      "Age           86\n",
      "Salary    242000\n",
      "dtype: int64\n",
      "---------------------------------------------\n",
      "             Age        Salary\n",
      "count   4.000000      4.000000\n",
      "mean   21.500000  60500.000000\n",
      "std     1.290994  13304.134696\n",
      "min    20.000000  50000.000000\n",
      "25%    20.750000  54500.000000\n",
      "50%    21.500000  56000.000000\n",
      "75%    22.250000  62000.000000\n",
      "max    23.000000  80000.000000\n"
     ]
    }
   ],
   "source": [
    "import pandas as pd\n",
    "\n",
    "data = {\n",
    "    'Age': [20, 21, 22, 23],\n",
    "    'Salary': [50000, 56000, 56000, 80000]\n",
    "}\n",
    "\n",
    "df = pd.DataFrame(data)\n",
    "\n",
    "print(df.mean())       # Calculate column-wise mean\n",
    "print('---------------------------------------------')\n",
    "print(df.sum())        # Add parentheses to execute the sum method\n",
    "print('---------------------------------------------')\n",
    "print(df.describe())   # Add parentheses to execute the describe method\n"
   ]
  },
  {
   "cell_type": "code",
   "execution_count": 57,
   "metadata": {},
   "outputs": [
    {
     "name": "stdout",
     "output_type": "stream",
     "text": [
      "Filtered DataFrame:\n",
      "     Name  Age  Salary\n",
      "1   Jerry   21   56000\n",
      "2  Mickey   22   56000\n",
      "3  Donald   23   80000\n",
      "\n",
      "DataFrame after dropping the 'Age' column:\n",
      "     Name  Salary\n",
      "0     Tom   50000\n",
      "1   Jerry   56000\n",
      "2  Mickey   56000\n",
      "3  Donald   80000\n"
     ]
    }
   ],
   "source": [
    "import pandas as pd\n",
    "\n",
    "data = {\n",
    "    'Name': ['Tom', 'Jerry', 'Mickey', 'Donald'],\n",
    "    'Age': [20, 21, 22, 23],\n",
    "    'Salary': [50000, 56000, 56000, 80000]\n",
    "}\n",
    "\n",
    "df = pd.DataFrame(data)\n",
    "\n",
    "# Filtering rows where Age > 20\n",
    "filtered_df = df[df['Age'] > 20]\n",
    "print(\"Filtered DataFrame:\")\n",
    "print(filtered_df)\n",
    "\n",
    "# Dropping the 'Age' column\n",
    "df_dropped = df.drop('Age', axis=1)\n",
    "print(\"\\nDataFrame after dropping the 'Age' column:\")\n",
    "print(df_dropped)\n"
   ]
  },
  {
   "cell_type": "code",
   "execution_count": 58,
   "metadata": {},
   "outputs": [
    {
     "name": "stdout",
     "output_type": "stream",
     "text": [
      "   A  B\n",
      "0  1  4\n",
      "1  2  5\n",
      "2  3  6\n",
      "3  7  8\n"
     ]
    }
   ],
   "source": [
    "import pandas as pd\n",
    "\n",
    "df = pd.DataFrame({\n",
    "    'A': [1, 2, 3],\n",
    "    'B': [4, 5, 6]\n",
    "})  \n",
    "\n",
    "# Add a row with values for 'A' and 'B'\n",
    "df.loc[len(df)] = [7, 8]\n",
    "print(df)\n"
   ]
  },
  {
   "cell_type": "code",
   "execution_count": 60,
   "metadata": {},
   "outputs": [
    {
     "name": "stdout",
     "output_type": "stream",
     "text": [
      "    Index      Customer Id First Name Last Name  \\\n",
      "0       1  DD37Cf93aecA6Dc     Sheryl    Baxter   \n",
      "1       2  1Ef7b82A4CAAD10    Preston    Lozano   \n",
      "2       3  6F94879bDAfE5a6        Roy     Berry   \n",
      "3       4  5Cef8BFA16c5e3c      Linda     Olsen   \n",
      "4       5  053d585Ab6b3159     Joanna    Bender   \n",
      "..    ...              ...        ...       ...   \n",
      "95     96  cb8E23e48d22Eae       Karl     Greer   \n",
      "96     97  CeD220bdAaCfaDf       Lynn  Atkinson   \n",
      "97     98  28CDbC0dFe4b1Db       Fred    Guerra   \n",
      "98     99  c23d1D9EE8DEB0A     Yvonne    Farmer   \n",
      "99    100  2354a0E336A91A1   Clarence    Haynes   \n",
      "\n",
      "                            Company               City  \\\n",
      "0                   Rasmussen Group       East Leonard   \n",
      "1                       Vega-Gentry  East Jimmychester   \n",
      "2                     Murillo-Perry      Isabelborough   \n",
      "3   Dominguez, Mcmillan and Donovan         Bensonview   \n",
      "4          Martin, Lang and Andrade     West Priscilla   \n",
      "..                              ...                ...   \n",
      "95                        Carey LLC       East Richard   \n",
      "96            Ware, Burns and Oneal       New Bradview   \n",
      "97                    Schmitt-Jones         Ortegaland   \n",
      "98               Fitzgerald-Harrell    Lake Elijahview   \n",
      "99               Le, Nash and Cross          Judymouth   \n",
      "\n",
      "                       Country                 Phone 1  \\\n",
      "0                        Chile            229.077.5154   \n",
      "1                     Djibouti              5153435776   \n",
      "2          Antigua and Barbuda                   -1199   \n",
      "3           Dominican Republic  001-808-617-6467x12895   \n",
      "4   Slovakia (Slovak Republic)  001-234-203-0635x76146   \n",
      "..                         ...                     ...   \n",
      "95                      Guyana     (188)169-1674x58692   \n",
      "96                   Sri Lanka                   -3769   \n",
      "97             Solomon Islands    +1-753-067-8419x7170   \n",
      "98                       Aruba           (530)311-9786   \n",
      "99                    Honduras           (753)813-6941   \n",
      "\n",
      "                   Phone 2                           Email Subscription Date  \\\n",
      "0         397.884.0519x718        zunigavanessa@smith.info         8/24/2020   \n",
      "1         686-620-1820x944                 vmata@colon.com         4/23/2021   \n",
      "2      (496)978-3969x58947             beckycarr@hogan.com         3/25/2020   \n",
      "3                    -9892     stanleyblackwell@benson.org          6/2/2020   \n",
      "4    001-199-446-3860x3486         colinalvarado@miles.net         4/17/2021   \n",
      "..                     ...                             ...               ...   \n",
      "95    001-841-293-3519x614                hhart@jensen.com         1/30/2022   \n",
      "96            605.413.3198               vkemp@ferrell.com         7/10/2021   \n",
      "97   +1-632-666-7507x92121                swagner@kane.org         9/18/2021   \n",
      "98  001-869-452-0943x12424  mccarthystephen@horn-green.biz         8/11/2021   \n",
      "99            783.639.1472          colleen91@faulkner.biz         3/11/2020   \n",
      "\n",
      "                              Website  \n",
      "0          http://www.stephenson.com/  \n",
      "1               http://www.hobbs.com/  \n",
      "2            http://www.lawrence.com/  \n",
      "3          http://www.good-lyons.com/  \n",
      "4         https://goodwin-ingram.com/  \n",
      "..                                ...  \n",
      "95            http://hayes-perez.com/  \n",
      "96         https://novak-allison.com/  \n",
      "97              https://www.ross.com/  \n",
      "98               http://watkins.info/  \n",
      "99  http://www.hatfield-saunders.net/  \n",
      "\n",
      "[100 rows x 12 columns]\n",
      "<class 'pandas.core.frame.DataFrame'>\n"
     ]
    }
   ],
   "source": [
    "import pandas as pd\n",
    "df = pd.read_csv('customers-100.csv')\n",
    "print(df)\n",
    "print(type(df))"
   ]
  }
 ],
 "metadata": {
  "kernelspec": {
   "display_name": "Python 3",
   "language": "python",
   "name": "python3"
  },
  "language_info": {
   "codemirror_mode": {
    "name": "ipython",
    "version": 3
   },
   "file_extension": ".py",
   "mimetype": "text/x-python",
   "name": "python",
   "nbconvert_exporter": "python",
   "pygments_lexer": "ipython3",
   "version": "3.13.0"
  }
 },
 "nbformat": 4,
 "nbformat_minor": 2
}
