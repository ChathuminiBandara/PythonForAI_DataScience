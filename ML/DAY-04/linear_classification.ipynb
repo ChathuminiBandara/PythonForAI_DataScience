{
 "cells": [
  {
   "cell_type": "code",
   "execution_count": 15,
   "id": "7ba00f02",
   "metadata": {},
   "outputs": [
    {
     "name": "stdout",
     "output_type": "stream",
     "text": [
      "                                         Review Text  sentiment\n",
      "0  Absolutely wonderful - silky and sexy and comf...          1\n",
      "1  Love this dress!  it's sooo pretty.  i happene...          1\n",
      "2  I love, love, love this jumpsuit. it's fun, fl...          1\n",
      "3  This shirt is very flattering to all due to th...          1\n",
      "4  I love tracy reese dresses, but this one is no...         -1\n"
     ]
    },
    {
     "ename": "TypeError",
     "evalue": "'module' object is not callable",
     "output_type": "error",
     "traceback": [
      "\u001b[1;31m---------------------------------------------------------------------------\u001b[0m",
      "\u001b[1;31mTypeError\u001b[0m                                 Traceback (most recent call last)",
      "Cell \u001b[1;32mIn[15], line 19\u001b[0m\n\u001b[0;32m     14\u001b[0m X_train, X_test, Y_train, Y_test \u001b[38;5;241m=\u001b[39m train_test_split\u001b[38;5;241m.\u001b[39mtrain_test_split(X, Y, test_size\u001b[38;5;241m=\u001b[39m\u001b[38;5;241m0.2\u001b[39m, random_state\u001b[38;5;241m=\u001b[39m\u001b[38;5;241m42\u001b[39m, stratify\u001b[38;5;241m=\u001b[39mY)\n\u001b[0;32m     15\u001b[0m \u001b[38;5;66;03m# stratify is used to maintain the distribution of the target variable in both training and testing sets , positive and negative reviews in this case\u001b[39;00m\n\u001b[0;32m     16\u001b[0m \n\u001b[0;32m     17\u001b[0m \u001b[38;5;66;03m# initialize the vectorizer, 'stop words  'remove the common english words that do not contribute to the meaning of the text\u001b[39;00m\n\u001b[0;32m     18\u001b[0m \u001b[38;5;66;03m# such as 'the', 'is', 'and', etc.\u001b[39;00m\n\u001b[1;32m---> 19\u001b[0m vectorizer \u001b[38;5;241m=\u001b[39m \u001b[43mCountVectorizer\u001b[49m\u001b[43m(\u001b[49m\u001b[43mstop_words\u001b[49m\u001b[38;5;241;43m=\u001b[39;49m\u001b[38;5;124;43m'\u001b[39;49m\u001b[38;5;124;43menglish\u001b[39;49m\u001b[38;5;124;43m'\u001b[39;49m\u001b[43m)\u001b[49m\n\u001b[0;32m     21\u001b[0m \u001b[38;5;66;03m# fit the vectorizer on the training data and transform it into a matrix\u001b[39;00m\n\u001b[0;32m     22\u001b[0m X_train_bow \u001b[38;5;241m=\u001b[39m vectorizer\u001b[38;5;241m.\u001b[39mfit_transform(X_train)\n",
      "\u001b[1;31mTypeError\u001b[0m: 'module' object is not callable"
     ]
    }
   ],
   "source": [
    "import pandas as pd\n",
    "import sklearn.model_selection as train_test_split\n",
    "import sklearn.feature_extraction.text as CountVectorizer\n",
    "from sklearn.linear_model import LogisticRegression\n",
    "from sklearn.metrics import accuracy_score \n",
    "\n",
    "df = pd.read_csv('womens_clothing_ecommerce_reviews.csv')\n",
    "print(df.head())\n",
    "\n",
    "X = df[[\"Review Text\"]]\n",
    "Y = df[[\"sentiment\"]]\n",
    "\n",
    "# \"stratify\" ensures that the proprtion of positive and negative reviews is maintained in both training and testing sets\n",
    "X_train, X_test, Y_train, Y_test = train_test_split.train_test_split(X, Y, test_size=0.2, random_state=42, stratify=Y)\n",
    "# stratify is used to maintain the distribution of the target variable in both training and testing sets , positive and negative reviews in this case\n",
    "\n",
    "# initialize the vectorizer, 'stop words  'remove the common english words that do not contribute to the meaning of the text\n",
    "# such as 'the', 'is', 'and', etc.\n",
    "vectorizer = CountVectorizer(stop_words='english')\n",
    "\n",
    "# fit the vectorizer on the training data and transform it into a matrix\n",
    "X_train_bow = vectorizer.fit_transform(X_train)\n",
    "\n",
    "# only transform the testing data using the already-fitted vectorizer\n",
    "X_test_bow = vectorizer.transform(X_test)\n",
    "\n",
    "# initialize the logistic regression model\n",
    "# max_iter is increased to ensure the model has enough time to fid the bst weights\n",
    "model = LogisticRegression(max_iter=2000)\n",
    "\n",
    "# train the model on your bag-of-words representation of the training data\n",
    "model.fit(X_train_bow, Y_train)\n",
    "\n",
    "print(\"Model trained successfully!\")\n",
    "\n",
    "#make predictions on the test data\n",
    "Y_pred = model.predict(X_test_bow)\n",
    "\n",
    "# calculate the accuracy of the model\n",
    "accuracy = accuracy_score(Y_test, Y_pred)\n",
    "print(f\"Model accuracy: {accuracy:.4f} ({accuracy:.2%})\")\n",
    "\n"
   ]
  },
  {
   "cell_type": "code",
   "execution_count": null,
   "id": "2bc8bcb9",
   "metadata": {},
   "outputs": [
    {
     "name": "stdout",
     "output_type": "stream",
     "text": [
      "                                         Review Text  sentiment\n",
      "0  Absolutely wonderful - silky and sexy and comf...          1\n",
      "1  Love this dress!  it's sooo pretty.  i happene...          1\n",
      "2  I love, love, love this jumpsuit. it's fun, fl...          1\n",
      "3  This shirt is very flattering to all due to th...          1\n",
      "4  I love tracy reese dresses, but this one is no...         -1\n",
      "Model trained successfully!\n",
      "Model accuracy: 0.9294 (92.94%)\n"
     ]
    }
   ],
   "source": [
    "import pandas as pd\n",
    "from sklearn.model_selection import train_test_split\n",
    "from sklearn.feature_extraction.text import CountVectorizer\n",
    "from sklearn.linear_model import LogisticRegression\n",
    "from sklearn.metrics import accuracy_score\n",
    "\n",
    "df = pd.read_csv('womens_clothing_ecommerce_reviews.csv')\n",
    "print(df.head())\n",
    "\n",
    "# Use 1D Series for X and y\n",
    "X = df[\"Review Text\"]\n",
    "Y = df[\"sentiment\"]\n",
    "\n",
    "# stratify keeps the class distribution\n",
    "X_train, X_test, Y_train, Y_test = train_test_split(\n",
    "    X, Y, test_size=0.2, random_state=42, stratify=Y\n",
    ")\n",
    "\n",
    "# vectorize text\n",
    "vectorizer = CountVectorizer(stop_words='english')\n",
    "X_train_bow = vectorizer.fit_transform(X_train)\n",
    "X_test_bow = vectorizer.transform(X_test)\n",
    "\n",
    "# train model\n",
    "model = LogisticRegression(max_iter=2000)\n",
    "model.fit(X_train_bow, Y_train)\n",
    "\n",
    "print(\"Model trained successfully!\")\n",
    "\n",
    "# evaluate\n",
    "Y_pred = model.predict(X_test_bow)\n",
    "accuracy = accuracy_score(Y_test, Y_pred)\n",
    "print(f\"Model accuracy: {accuracy:.4f} ({accuracy:.2%})\")\n"
   ]
  },
  {
   "cell_type": "code",
   "execution_count": 27,
   "id": "109d197c",
   "metadata": {},
   "outputs": [
    {
     "name": "stdout",
     "output_type": "stream",
     "text": [
      "[ 1 -1  1 -1]\n"
     ]
    }
   ],
   "source": [
    "new_reviews=[\n",
    "    \"I love this dress! It's so comfortable and stylish.\",\n",
    "    \"The fabric is cheap and the fit is terrible.\", \n",
    "    \"Absolutely fantastic! I will buy more.\",\n",
    "    \"Not worth the price, very disappointed.\",\n",
    "]\n",
    "\n",
    "# transform the new revies into the bag-of-words representation\n",
    "new_reviews_bow = vectorizer.transform(new_reviews)\n",
    "\n",
    "# make predictions on the new reviews\n",
    "new_predictions = model.predict(new_reviews_bow)\n",
    "\n",
    "# print the predictions\n",
    "print(new_predictions)\n",
    "\n"
   ]
  }
 ],
 "metadata": {
  "kernelspec": {
   "display_name": "Python 3",
   "language": "python",
   "name": "python3"
  },
  "language_info": {
   "codemirror_mode": {
    "name": "ipython",
    "version": 3
   },
   "file_extension": ".py",
   "mimetype": "text/x-python",
   "name": "python",
   "nbconvert_exporter": "python",
   "pygments_lexer": "ipython3",
   "version": "3.13.0"
  }
 },
 "nbformat": 4,
 "nbformat_minor": 5
}
