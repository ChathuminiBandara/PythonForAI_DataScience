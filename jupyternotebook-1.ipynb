{
 "cells": [
  {
   "cell_type": "code",
   "execution_count": 1,
   "metadata": {},
   "outputs": [
    {
     "name": "stdout",
     "output_type": "stream",
     "text": [
      "hello\n"
     ]
    }
   ],
   "source": [
    "print('hello')"
   ]
  },
  {
   "cell_type": "code",
   "execution_count": 1,
   "metadata": {},
   "outputs": [
    {
     "name": "stdout",
     "output_type": "stream",
     "text": [
      "the length of the old list is : 5\n",
      "the length of the new list is : 6\n",
      "[1, 'ian', 12, 'Kamal', True, 'kamal']\n"
     ]
    }
   ],
   "source": [
    "new_list = [1, \"ian\", 12, \"Kamal\", True]\n",
    "print(\"the length of the old list is :\" , len(new_list))\n",
    "new_list.append(\"kamal\")\n",
    "print(\"the length of the new list is :\" , len(new_list))\n",
    "print(new_list)"
   ]
  },
  {
   "cell_type": "code",
   "execution_count": 2,
   "metadata": {},
   "outputs": [
    {
     "name": "stdout",
     "output_type": "stream",
     "text": [
      "[1, 'ian', 12, 'Ian new value', 'Kamal', True]  new lists length :  6\n"
     ]
    }
   ],
   "source": [
    "new_list = [1, \"ian\", 12, \"Kamal\", True]\n",
    "new_list.insert(3, \"Ian new value\")\n",
    "print(new_list , \" new lists length : \" , len(new_list))"
   ]
  },
  {
   "cell_type": "code",
   "execution_count": null,
   "metadata": {},
   "outputs": [],
   "source": []
  }
 ],
 "metadata": {
  "kernelspec": {
   "display_name": "Python 3",
   "language": "python",
   "name": "python3"
  },
  "language_info": {
   "codemirror_mode": {
    "name": "ipython",
    "version": 3
   },
   "file_extension": ".py",
   "mimetype": "text/x-python",
   "name": "python",
   "nbconvert_exporter": "python",
   "pygments_lexer": "ipython3",
   "version": "3.13.0"
  }
 },
 "nbformat": 4,
 "nbformat_minor": 2
}
